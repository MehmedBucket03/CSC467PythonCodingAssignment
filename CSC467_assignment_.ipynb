{
  "metadata": {
    "kernelspec": {
      "name": "python",
      "display_name": "Python (Pyodide)",
      "language": "python"
    },
    "language_info": {
      "codemirror_mode": {
        "name": "python",
        "version": 3
      },
      "file_extension": ".py",
      "mimetype": "text/x-python",
      "name": "python",
      "nbconvert_exporter": "python",
      "pygments_lexer": "ipython3",
      "version": "3.8"
    },
    "colab": {
      "provenance": [],
      "include_colab_link": true
    }
  },
  "nbformat_minor": 0,
  "nbformat": 4,
  "cells": [
    {
      "cell_type": "markdown",
      "metadata": {
        "id": "view-in-github",
        "colab_type": "text"
      },
      "source": [
        "<a href=\"https://colab.research.google.com/github/MehmedBucket03/CSC467PythonCodingAssignment/blob/main/CSC467_assignment_.ipynb\" target=\"_parent\"><img src=\"https://colab.research.google.com/assets/colab-badge.svg\" alt=\"Open In Colab\"/></a>"
      ]
    },
    {
      "cell_type": "markdown",
      "source": [
        "# CSC467- Module 02 Assignment"
      ],
      "metadata": {
        "id": "DtXojfUAw2Xv"
      }
    },
    {
      "cell_type": "markdown",
      "source": [
        "## Instructions\n",
        "\n",
        "Please answer the questions below using Python in the attached Jupyter notebook and follow the guidelines below:\n",
        "\n",
        "- This assignment must be completed **individually**.\n",
        "\n",
        "- All the solutions must be written in this Jupyter notebook, uploaded to Github and tested using Colab.\n",
        "\n",
        "- You may use basic algebra packages (e.g. `NumPy`, `SciPy`, etc) but you are not allowed to use the packages that directly solve the problems.\n",
        "\n",
        "- It is highly recommended that you begin working on this assignment early.\n"
      ],
      "metadata": {
        "id": "DS7BB-zzw2Xx"
      }
    },
    {
      "cell_type": "markdown",
      "source": [],
      "metadata": {
        "id": "YDl7_ANxw2Xy"
      }
    },
    {
      "cell_type": "markdown",
      "source": [
        "## Getting Started with NumPy\n",
        "\n",
        "`NumPy` is the fundamental package for scientific computing with Python. It provides a powerful N-dimensional array object and functions for working with these arrays. Some basic use of this packages is shown below. This is **NOT** a problem, but you are highly recommended to run the following code with some of the input changed in order to understand the meaning of the operations."
      ],
      "metadata": {
        "id": "nORVG8Rbw2Xy"
      }
    },
    {
      "cell_type": "markdown",
      "source": [
        "### Arrays"
      ],
      "metadata": {
        "id": "539NUhiLw2Xz"
      }
    },
    {
      "cell_type": "code",
      "source": [
        "import numpy as np             # Import the NumPy package\n",
        "\n",
        "v = np.array([1, 2, 3])        # A 1D array\n",
        "print(v)\n",
        "print(v.shape)                 # Print the size / shape of v\n",
        "print(\"1D array:\", v, \"Shape:\", v.shape)\n",
        "\n",
        "v = np.array([[1], [2], [3]])  # A 2D array\n",
        "print(\"2D array:\", v, \"Shape:\", v.shape) # Print the size of v and check the difference.\n",
        "\n",
        "# You can also attempt to compute and print the following values and their size.\n",
        "\n",
        "v = v.T                        # Transpose of a 2D array\n",
        "m = np.zeros([3, 4])           # A 2x3 array (i.e. matrix) of zeros\n",
        "v = np.ones([1, 3])            # A 1x3 array (i.e. a row vector) of ones\n",
        "v = np.ones([3, 1])            # A 3x1 array (i.e. a column vector) of ones\n",
        "m = np.eye(4)                  # Identity matrix\n",
        "m = np.random.rand(2, 3)       # A 2x3 random matrix with values in [0, 1] (sampled from uniform distribution)"
      ],
      "metadata": {
        "trusted": true,
        "id": "xSYlvPkMw2Xz",
        "outputId": "8800e80d-6fca-4b63-f8e5-23fdc5d03eff"
      },
      "outputs": [
        {
          "name": "stdout",
          "output_type": "stream",
          "text": "[1 2 3]\n(3,)\n1D array: [1 2 3] Shape: (3,)\n2D array: [[1]\n [2]\n Shape: (3, 1)\n"
        }
      ],
      "execution_count": null
    },
    {
      "cell_type": "markdown",
      "source": [
        "### Array Indexing"
      ],
      "metadata": {
        "id": "8T1ctGq4w2X1"
      }
    },
    {
      "cell_type": "code",
      "source": [
        "import numpy as np\n",
        "\n",
        "print(\"Matrix\")\n",
        "m = np.array([[1, 2, 3], [4, 5, 6], [7, 8, 9]]) # Create a 3x3 array.\n",
        "print(m)\n",
        "\n",
        "print(\"\\nAccess a single element\")\n",
        "print(m[0, 1])                        # Access an element\n",
        "m[1, 1] = 100                         # Modify an element\n",
        "print(\"\\nModify a single element\")\n",
        "print(m)\n",
        "\n",
        "print(\"\\nAccess a subarray\")\n",
        "m = np.array([[1, 2, 3], [4, 5, 6], [7, 8, 9]]) # Create a 3x3 array.\n",
        "print(m[1, :])                        # Access a row (to 1D array)\n",
        "print(m[1:2, :])                      # Access a row (to 2D array)\n",
        "print(m[1:3, :])                      # Access a sub-matrix\n",
        "print(m[1:, :])                       # Access a sub-matrix\n",
        "\n",
        "print(\"\\nModify a subarray\")\n",
        "m = np.array([[1,2,3], [4,5,6], [7,8,9]]) # Create a 3x3 array.\n",
        "v1 = np.array([1,1,1])\n",
        "m[0] = v1\n",
        "print(m)\n",
        "m = np.array([[1,2,3], [4,5,6], [7,8,9]]) # Create a 3x3 array.\n",
        "v1 = np.array([1,1,1])\n",
        "m[:,0] = v1\n",
        "print(m)\n",
        "m = np.array([[1,2,3], [4,5,6], [7,8,9]]) # Create a 3x3 array.\n",
        "m1 = np.array([[1,1],[1,1]])\n",
        "m[:2,:2] = m1\n",
        "print(m)\n",
        "\n",
        "print(\"\\nTranspose a subarray\")\n",
        "m = np.array([[1, 2, 3], [4, 5, 6], [7, 8, 9]]) # Create a 3x3 array.\n",
        "print(m[1, :].T)                                # Notice the difference of the dimension of resulting array\n",
        "print(m[1:2, :].T)\n",
        "print(m[1:, :].T)\n",
        "print(np.transpose(m[1:, :], axes=(1,0)))       # np.transpose() can be used to transpose according given axes list.\n",
        "\n",
        "print(\"\\nReverse the order of a subarray\")\n",
        "print(m[1, ::-1])                               # Access a row with reversed order (to 1D array)\n",
        "\n",
        "# Boolean array indexing\n",
        "# Given a array m, create a new array with values equal to m\n",
        "# if they are greater than 2, and equal to 0 if they less than or equal to 2\n",
        "m = np.array([[1, 2, 3], [4, 5, 6]])\n",
        "m[m <= 2] = 0\n",
        "print(\"\\nBoolean array indexing: Modify with a scalar\")\n",
        "print(m)\n",
        "\n",
        "# Given a array m, create a new array with values equal to those in m\n",
        "# if they are greater than 0, and equal to those in n if they less than or equal 0\n",
        "m = np.array([[1, -2, 3], [4, -5, 6]])\n",
        "n = np.array([[1, 10, 100], [1, 10, 100]])\n",
        "n[m > 0] = m[m > 0]\n",
        "print(\"\\nBoolean array indexing: Modify with another array\")\n",
        "print(n)"
      ],
      "metadata": {
        "trusted": true,
        "id": "EB4kOUMpw2X2",
        "outputId": "ec504ea9-8598-4c2e-c737-c0f9cefd1090"
      },
      "outputs": [
        {
          "name": "stdout",
          "output_type": "stream",
          "text": "Matrix\n[[1 2 3]\n [4 5 6]\n [7 8 9]]\n\nAccess a single element\n2\n\nModify a single element\n[[  1   2   3]\n [  4 100   6]\n [  7   8   9]]\n\nAccess a subarray\n[4 5 6]\n[[4 5 6]]\n[[4 5 6]\n [7 8 9]]\n[[4 5 6]\n [7 8 9]]\n\nModify a subarray\n[[1 1 1]\n [4 5 6]\n [7 8 9]]\n[[1 2 3]\n [1 5 6]\n [1 8 9]]\n[[1 1 3]\n [1 1 6]\n [7 8 9]]\n\nTranspose a subarray\n[4 5 6]\n[[4]\n [5]\n [6]]\n[[4 7]\n [5 8]\n [6 9]]\n[[4 7]\n [5 8]\n [6 9]]\n\nReverse the order of a subarray\n[6 5 4]\n\nBoolean array indexing: Modify with a scalar\n[[0 0 3]\n [4 5 6]]\n\nBoolean array indexing: Modify with another array\n[[ 1 10  3]\n [ 4 10  6]]\n"
        }
      ],
      "execution_count": null
    },
    {
      "cell_type": "markdown",
      "source": [
        "### Array Dimension Operation"
      ],
      "metadata": {
        "id": "LPBEd3F4w2X2"
      }
    },
    {
      "cell_type": "code",
      "source": [
        "import numpy as np\n",
        "\n",
        "print(\"Matrix\")\n",
        "m = np.array([[1, 2], [3, 4]]) # Create a 2x2 array.\n",
        "print(m, m.shape)\n",
        "\n",
        "print(\"\\nReshape\")\n",
        "re_m = m.reshape(1,2,2)  # Add one more dimension at first.\n",
        "print(re_m, re_m.shape)\n",
        "re_m = m.reshape(2,1,2)  # Add one more dimension in middle.\n",
        "print(re_m, re_m.shape)\n",
        "re_m = m.reshape(2,2,1)  # Add one more dimension at last.\n",
        "print(re_m, re_m.shape)\n",
        "\n",
        "print(\"\\nStack\")\n",
        "m1 = np.array([[1, 2], [3, 4]]) # Create a 2x2 array.\n",
        "m2 = np.array([[1, 1], [1, 1]]) # Create a 2x2 array.\n",
        "print(np.stack((m1,m2)))\n",
        "\n",
        "print(\"\\nConcatenate\")\n",
        "m1 = np.array([[1, 2], [3, 4]]) # Create a 2x2 array.\n",
        "m2 = np.array([[1, 1], [1, 1]]) # Create a 2x2 array.\n",
        "print(np.concatenate((m1,m2)))\n",
        "print(np.concatenate((m1,m2), axis=0))\n",
        "print(np.concatenate((m1,m2), axis=1))"
      ],
      "metadata": {
        "trusted": true,
        "id": "weEQrAxNw2X2",
        "outputId": "090b0f02-c076-4dd4-ee8a-79a175db2cd7"
      },
      "outputs": [
        {
          "name": "stdout",
          "output_type": "stream",
          "text": "Matrix\n[[1 2]\n (2, 2)\n\nReshape\n[[[1 2]\n (1, 2, 2)\n[[[1 2]]\n\n (2, 1, 2)\n[[[1]\n  [2]]\n\n [[3]\n (2, 2, 1)\n\nStack\n[[[1 2]\n  [3 4]]\n\n [[1 1]\n  [1 1]]]\n\nConcatenate\n[[1 2]\n [3 4]\n [1 1]\n [1 1]]\n[[1 2]\n [3 4]\n [1 1]\n [1 1]]\n[[1 2 1 1]\n [3 4 1 1]]\n"
        }
      ],
      "execution_count": null
    },
    {
      "cell_type": "markdown",
      "source": [
        "### Math Operations on Array\n",
        "**Element-wise Operations**"
      ],
      "metadata": {
        "jp-MarkdownHeadingCollapsed": true,
        "id": "Nrw2FELZw2X3"
      }
    },
    {
      "cell_type": "code",
      "source": [
        "import numpy as np\n",
        "\n",
        "a = np.array([[1, 2, 3], [4, 5, 6]], dtype=np.float64)\n",
        "print(a * 3)                                            # Scalar multiplication\n",
        "print(a / 2)                                            # Scalar division\n",
        "print(np.round(a / 2))\n",
        "print(np.power(a, 2))\n",
        "print(np.log(a))\n",
        "print(np.exp(a))\n",
        "\n",
        "b = np.array([[1, 1, 1], [2, 2, 2]], dtype=np.float64)\n",
        "print(a + b)                                            # Elementwise sum\n",
        "print(a - b)                                            # Elementwise difference\n",
        "print(a * b)                                            # Elementwise product\n",
        "print(a / b)                                            # Elementwise division\n",
        "print(a == b)                                           # Elementwise comparison"
      ],
      "metadata": {
        "trusted": true,
        "id": "WeccrKW0w2X3",
        "outputId": "c4a3da71-d001-4872-e051-b4fce98e0784"
      },
      "outputs": [
        {
          "name": "stdout",
          "output_type": "stream",
          "text": "[[ 3.  6.  9.]\n [12. 15. 18.]]\n[[0.5 1.  1.5]\n [2.  2.5 3. ]]\n[[0. 1. 2.]\n [2. 2. 3.]]\n[[ 1.  4.  9.]\n [16. 25. 36.]]\n[[0.         0.69314718 1.09861229]\n [1.38629436 1.60943791 1.79175947]]\n[[  2.71828183   7.3890561   20.08553692]\n [ 54.59815003 148.4131591  403.42879349]]\n[[2. 3. 4.]\n [6. 7. 8.]]\n[[0. 1. 2.]\n [2. 3. 4.]]\n[[ 1.  2.  3.]\n [ 8. 10. 12.]]\n[[1.  2.  3. ]\n [2.  2.5 3. ]]\n[[ True False False]\n [False False False]]\n"
        }
      ],
      "execution_count": null
    },
    {
      "cell_type": "markdown",
      "source": [
        "**Broadcasting**"
      ],
      "metadata": {
        "id": "PL8w-XHAw2X3"
      }
    },
    {
      "cell_type": "code",
      "source": [
        "# Note: See https://numpy.org/doc/stable/user/basics.broadcasting.html\n",
        "#       for more details.\n",
        "import numpy as np\n",
        "a = np.array([[1, 1, 1], [2, 2, 2]], dtype=np.float64)\n",
        "b = np.array([1, 2, 3])\n",
        "print(a*b)"
      ],
      "metadata": {
        "trusted": true,
        "id": "KD4Wsr5iw2X3",
        "outputId": "f85328b3-9f6e-4ec1-a29c-76ac099e1668"
      },
      "outputs": [
        {
          "name": "stdout",
          "output_type": "stream",
          "text": "[[1. 2. 3.]\n [2. 4. 6.]]\n"
        }
      ],
      "execution_count": null
    },
    {
      "cell_type": "markdown",
      "source": [
        "**Sum and Mean**"
      ],
      "metadata": {
        "id": "QUyiJEN5w2X4"
      }
    },
    {
      "cell_type": "code",
      "source": [
        "import numpy as np\n",
        "\n",
        "a = np.array([[1, 2, 3], [4, 5, 6]])\n",
        "print(\"Sum of array\")\n",
        "print(np.sum(a))                # Sum of all array elements\n",
        "print(np.sum(a, axis=0))        # Sum of each column\n",
        "print(np.sum(a, axis=1))        # Sum of each row\n",
        "print(\"\\nMean of array\")\n",
        "print(np.mean(a))               # Mean of all array elements\n",
        "print(np.mean(a, axis=0))       # Mean of each column\n",
        "print(np.mean(a, axis=1))       # Mean of each row"
      ],
      "metadata": {
        "trusted": true,
        "id": "fyJyO7bOw2X4",
        "outputId": "a89b5dad-7524-4d0e-8aeb-fd16357a35a4"
      },
      "outputs": [
        {
          "name": "stdout",
          "output_type": "stream",
          "text": "Sum of array\n21\n[5 7 9]\n[ 6 15]\n\nMean of array\n3.5\n[2.5 3.5 4.5]\n[2. 5.]\n"
        }
      ],
      "execution_count": null
    },
    {
      "cell_type": "markdown",
      "source": [
        "**Vector and Matrix Operations**"
      ],
      "metadata": {
        "id": "P4Jn6B1pw2X4"
      }
    },
    {
      "cell_type": "code",
      "source": [
        "import numpy as np\n",
        "\n",
        "a = np.array([[1, 2], [3, 4]])\n",
        "b = np.array([[1, 2], [4, 1]])\n",
        "print(\"Matrix-matrix product\")\n",
        "print(a.dot(b))                 # Matrix-matrix product\n",
        "print(a.T.dot(b.T))\n",
        "print(np.matmul(a,b))\n",
        "print(np.matmul(a.T, b.T))\n",
        "print(a @ b)\n",
        "print(a.T @ b.T)\n",
        "\n",
        "x = np.array([3, 4])\n",
        "print(\"\\nMatrix-vector product\")\n",
        "print(a.dot(x))                 # Matrix-vector product\n",
        "print(np.matmul(a,x))\n",
        "print(a @ x)\n",
        "\n",
        "x = np.array([1, 2])\n",
        "y = np.array([3, 4])\n",
        "print(\"\\nVector-vector product\")\n",
        "print(x.dot(y))                 # Vector-vector product"
      ],
      "metadata": {
        "trusted": true,
        "id": "-o55Pmsmw2X4",
        "outputId": "4e70a2ee-ddf0-4587-eb10-5c85fc2a8085"
      },
      "outputs": [
        {
          "name": "stdout",
          "output_type": "stream",
          "text": "Matrix-matrix product\n[[ 9  4]\n [19 10]]\n[[ 7  7]\n [10 12]]\n[[ 9  4]\n [19 10]]\n[[ 7  7]\n [10 12]]\n[[ 9  4]\n [19 10]]\n[[ 7  7]\n [10 12]]\n\nMatrix-vector product\n[11 25]\n[11 25]\n[11 25]\n\nVector-vector product\n11\n"
        }
      ],
      "execution_count": null
    },
    {
      "cell_type": "markdown",
      "source": [
        "### Matplotlib\n",
        "\n",
        "`Matplotlib` is a plotting library. We will use it to show the result in this assignment."
      ],
      "metadata": {
        "id": "g1hDmRWKw2X4"
      }
    },
    {
      "cell_type": "code",
      "source": [
        "%config InlineBackend.figure_format = 'retina' # For high-resolution.\n",
        "import numpy as np\n",
        "import matplotlib.pyplot as plt\n",
        "\n",
        "x = np.arange(-2., 2., 0.01) * np.pi\n",
        "plt.plot(x, np.cos(x))\n",
        "plt.xlabel('x')\n",
        "plt.ylabel('$cos(x)$ value') # '$...$' for a LaTeX formula.\n",
        "plt.title('Cosine function')\n",
        "\n",
        "plt.show()"
      ],
      "metadata": {
        "trusted": true,
        "id": "pNopwUXTw2X4",
        "outputId": "01132b22-71d1-4ed9-953b-b0523e5a0272"
      },
      "outputs": [
        {
          "output_type": "display_data",
          "data": {
            "text/plain": "<Figure size 640x480 with 1 Axes>",
            "image/png": "[encoded data removed]"
          },
          "metadata": {
            "image/png": {
              "width": 588,
              "height": 454
            }
          }
        }
      ],
      "execution_count": null
    },
    {
      "cell_type": "markdown",
      "source": [
        "This brief overview introduces many basic functions from `NumPy` and `Matplotlib`, but is far from complete. Check out more operations and their use in documentations for [NumPy](https://docs.scipy.org/doc/numpy/reference/) and [Matplotlib](https://matplotlib.org/)."
      ],
      "metadata": {
        "id": "MUqXhNsZw2X5"
      }
    },
    {
      "cell_type": "markdown",
      "source": [
        "## Problem 1: Image Operations and Vectorization (5 points)\n",
        "\n",
        "Vector operations using `NumPy` can offer a significant speedup over doing an operation iteratively on an image. The problem below will demonstrate the time it takes for both approaches to change the color of quadrants of an image.\n",
        "\n",
        "The problem reads an image `bear.png` that you will find in the assignment folder. Two functions are then provided as different approaches for doing an operation on the image.\n",
        "\n",
        "Your task is to follow through the code and fill the blanks in `vectorized()` function and compare the speed difference between `iterative()` and `vectorized()`."
      ],
      "metadata": {
        "id": "Z4Ma3Xtkw2X5"
      }
    },
    {
      "cell_type": "code",
      "source": [
        "import numpy as np\n",
        "import matplotlib.pyplot as plt\n",
        "import copy\n",
        "import time\n",
        "\n",
        "img = plt.imread('bear.png')                # Read an image\n",
        "print(\"Image shape:\", img.shape)            # Print image size and color depth. The shape should be (H,W,C).\n",
        "plt.imshow(img)                             # Show the original image\n",
        "plt.show()"
      ],
      "metadata": {
        "trusted": true,
        "colab": {
          "base_uri": "https://localhost:8080/",
          "height": 391
        },
        "id": "63zAhJ6ow2X5",
        "outputId": "1bd6981d-a9a1-4d1c-952c-11e0382a3150"
      },
      "outputs": [
        {
          "output_type": "error",
          "ename": "FileNotFoundError",
          "evalue": "[Errno 2] No such file or directory: 'bear.png'",
          "traceback": [
            "\u001b[0;31m---------------------------------------------------------------------------\u001b[0m",
            "\u001b[0;31mFileNotFoundError\u001b[0m                         Traceback (most recent call last)",
            "\u001b[0;32m<ipython-input-1-36dd9d02992b>\u001b[0m in \u001b[0;36m<cell line: 0>\u001b[0;34m()\u001b[0m\n\u001b[1;32m      4\u001b[0m \u001b[0;32mimport\u001b[0m \u001b[0mtime\u001b[0m\u001b[0;34m\u001b[0m\u001b[0;34m\u001b[0m\u001b[0m\n\u001b[1;32m      5\u001b[0m \u001b[0;34m\u001b[0m\u001b[0m\n\u001b[0;32m----> 6\u001b[0;31m \u001b[0mimg\u001b[0m \u001b[0;34m=\u001b[0m \u001b[0mplt\u001b[0m\u001b[0;34m.\u001b[0m\u001b[0mimread\u001b[0m\u001b[0;34m(\u001b[0m\u001b[0;34m'bear.png'\u001b[0m\u001b[0;34m)\u001b[0m                \u001b[0;31m# Read an image\u001b[0m\u001b[0;34m\u001b[0m\u001b[0;34m\u001b[0m\u001b[0m\n\u001b[0m\u001b[1;32m      7\u001b[0m \u001b[0mprint\u001b[0m\u001b[0;34m(\u001b[0m\u001b[0;34m\"Image shape:\"\u001b[0m\u001b[0;34m,\u001b[0m \u001b[0mimg\u001b[0m\u001b[0;34m.\u001b[0m\u001b[0mshape\u001b[0m\u001b[0;34m)\u001b[0m            \u001b[0;31m# Print image size and color depth. The shape should be (H,W,C).\u001b[0m\u001b[0;34m\u001b[0m\u001b[0;34m\u001b[0m\u001b[0m\n\u001b[1;32m      8\u001b[0m \u001b[0mplt\u001b[0m\u001b[0;34m.\u001b[0m\u001b[0mimshow\u001b[0m\u001b[0;34m(\u001b[0m\u001b[0mimg\u001b[0m\u001b[0;34m)\u001b[0m                             \u001b[0;31m# Show the original image\u001b[0m\u001b[0;34m\u001b[0m\u001b[0;34m\u001b[0m\u001b[0m\n",
            "\u001b[0;32m/usr/local/lib/python3.11/dist-packages/matplotlib/pyplot.py\u001b[0m in \u001b[0;36mimread\u001b[0;34m(fname, format)\u001b[0m\n\u001b[1;32m   2611\u001b[0m         \u001b[0mfname\u001b[0m\u001b[0;34m:\u001b[0m \u001b[0mstr\u001b[0m \u001b[0;34m|\u001b[0m \u001b[0mpathlib\u001b[0m\u001b[0;34m.\u001b[0m\u001b[0mPath\u001b[0m \u001b[0;34m|\u001b[0m \u001b[0mBinaryIO\u001b[0m\u001b[0;34m,\u001b[0m \u001b[0mformat\u001b[0m\u001b[0;34m:\u001b[0m \u001b[0mstr\u001b[0m \u001b[0;34m|\u001b[0m \u001b[0;32mNone\u001b[0m \u001b[0;34m=\u001b[0m \u001b[0;32mNone\u001b[0m\u001b[0;34m\u001b[0m\u001b[0;34m\u001b[0m\u001b[0m\n\u001b[1;32m   2612\u001b[0m ) -> np.ndarray:\n\u001b[0;32m-> 2613\u001b[0;31m     \u001b[0;32mreturn\u001b[0m \u001b[0mmatplotlib\u001b[0m\u001b[0;34m.\u001b[0m\u001b[0mimage\u001b[0m\u001b[0;34m.\u001b[0m\u001b[0mimread\u001b[0m\u001b[0;34m(\u001b[0m\u001b[0mfname\u001b[0m\u001b[0;34m,\u001b[0m \u001b[0mformat\u001b[0m\u001b[0;34m)\u001b[0m\u001b[0;34m\u001b[0m\u001b[0;34m\u001b[0m\u001b[0m\n\u001b[0m\u001b[1;32m   2614\u001b[0m \u001b[0;34m\u001b[0m\u001b[0m\n\u001b[1;32m   2615\u001b[0m \u001b[0;34m\u001b[0m\u001b[0m\n",
            "\u001b[0;32m/usr/local/lib/python3.11/dist-packages/matplotlib/image.py\u001b[0m in \u001b[0;36mimread\u001b[0;34m(fname, format)\u001b[0m\n\u001b[1;32m   1500\u001b[0m             \u001b[0;34m\"``np.array(PIL.Image.open(urllib.request.urlopen(url)))``.\"\u001b[0m\u001b[0;34m\u001b[0m\u001b[0;34m\u001b[0m\u001b[0m\n\u001b[1;32m   1501\u001b[0m             )\n\u001b[0;32m-> 1502\u001b[0;31m     \u001b[0;32mwith\u001b[0m \u001b[0mimg_open\u001b[0m\u001b[0;34m(\u001b[0m\u001b[0mfname\u001b[0m\u001b[0;34m)\u001b[0m \u001b[0;32mas\u001b[0m \u001b[0mimage\u001b[0m\u001b[0;34m:\u001b[0m\u001b[0;34m\u001b[0m\u001b[0;34m\u001b[0m\u001b[0m\n\u001b[0m\u001b[1;32m   1503\u001b[0m         return (_pil_png_to_float_array(image)\n\u001b[1;32m   1504\u001b[0m                 \u001b[0;32mif\u001b[0m \u001b[0misinstance\u001b[0m\u001b[0;34m(\u001b[0m\u001b[0mimage\u001b[0m\u001b[0;34m,\u001b[0m \u001b[0mPIL\u001b[0m\u001b[0;34m.\u001b[0m\u001b[0mPngImagePlugin\u001b[0m\u001b[0;34m.\u001b[0m\u001b[0mPngImageFile\u001b[0m\u001b[0;34m)\u001b[0m \u001b[0;32melse\u001b[0m\u001b[0;34m\u001b[0m\u001b[0;34m\u001b[0m\u001b[0m\n",
            "\u001b[0;32m/usr/local/lib/python3.11/dist-packages/PIL/ImageFile.py\u001b[0m in \u001b[0;36m__init__\u001b[0;34m(self, fp, filename)\u001b[0m\n\u001b[1;32m    130\u001b[0m         \u001b[0;32mif\u001b[0m \u001b[0mis_path\u001b[0m\u001b[0;34m(\u001b[0m\u001b[0mfp\u001b[0m\u001b[0;34m)\u001b[0m\u001b[0;34m:\u001b[0m\u001b[0;34m\u001b[0m\u001b[0;34m\u001b[0m\u001b[0m\n\u001b[1;32m    131\u001b[0m             \u001b[0;31m# filename\u001b[0m\u001b[0;34m\u001b[0m\u001b[0;34m\u001b[0m\u001b[0m\n\u001b[0;32m--> 132\u001b[0;31m             \u001b[0mself\u001b[0m\u001b[0;34m.\u001b[0m\u001b[0mfp\u001b[0m \u001b[0;34m=\u001b[0m \u001b[0mopen\u001b[0m\u001b[0;34m(\u001b[0m\u001b[0mfp\u001b[0m\u001b[0;34m,\u001b[0m \u001b[0;34m\"rb\"\u001b[0m\u001b[0;34m)\u001b[0m\u001b[0;34m\u001b[0m\u001b[0;34m\u001b[0m\u001b[0m\n\u001b[0m\u001b[1;32m    133\u001b[0m             \u001b[0mself\u001b[0m\u001b[0;34m.\u001b[0m\u001b[0mfilename\u001b[0m \u001b[0;34m=\u001b[0m \u001b[0mos\u001b[0m\u001b[0;34m.\u001b[0m\u001b[0mfspath\u001b[0m\u001b[0;34m(\u001b[0m\u001b[0mfp\u001b[0m\u001b[0;34m)\u001b[0m\u001b[0;34m\u001b[0m\u001b[0;34m\u001b[0m\u001b[0m\n\u001b[1;32m    134\u001b[0m             \u001b[0mself\u001b[0m\u001b[0;34m.\u001b[0m\u001b[0m_exclusive_fp\u001b[0m \u001b[0;34m=\u001b[0m \u001b[0;32mTrue\u001b[0m\u001b[0;34m\u001b[0m\u001b[0;34m\u001b[0m\u001b[0m\n",
            "\u001b[0;31mFileNotFoundError\u001b[0m: [Errno 2] No such file or directory: 'bear.png'"
          ]
        }
      ],
      "execution_count": 1
    },
    {
      "cell_type": "code",
      "source": [
        "def iterative(img):\n",
        "    \"\"\" Iterative operation. \"\"\"\n",
        "    image = copy.deepcopy(img)              # Create a copy of the image matrix\n",
        "    for x in range(image.shape[0]):\n",
        "        for y in range(image.shape[1]):\n",
        "            if x < image.shape[0]/2 and y < image.shape[1]/2:\n",
        "                image[x,y] = image[x,y] * np.array([1,0,0])    # Keep the red channel\n",
        "            elif x > image.shape[0]/2 and y < image.shape[1]/2:\n",
        "                image[x,y] = image[x,y] * np.array([0,0,1])    # Keep the blue channel\n",
        "            elif x < image.shape[0]/2 and y > image.shape[1]/2:\n",
        "                image[x,y] = image[x,y] * np.array([0,1,1])    # Keep the green and blue channels\n",
        "            else:\n",
        "                pass\n",
        "    return image\n",
        "\n",
        "def vectorized(img):\n",
        "    \"\"\" Vectorized operation. \"\"\"\n",
        "    image = copy.deepcopy(img)\n",
        "    a = int(image.shape[0]/2)\n",
        "    b = int(image.shape[1]/2)\n",
        "    image[:a,:b] = image[:a,:b] * np.array([1,0,0])       # Keep the red channel\n",
        "\n",
        "    # Please also keep the blue channel / green and blue channels respectively in image[a:, :b] and image[:a, b:]\n",
        "    # with the vectorized operation as shown above. You need to make sure your final generated image in this\n",
        "    # vectorized() function is the same as the one generated from iterative().\n",
        "\n",
        "    #### Write your code here. ####\n",
        "    image[a:,:b] =  []      # Keep the blue channel\n",
        "\n",
        "    image[:a,b:] =  []      # Keep the green and blue channels\n",
        "\n",
        "    return image"
      ],
      "metadata": {
        "trusted": true,
        "id": "HMhhgwl-w2X5"
      },
      "outputs": [],
      "execution_count": null
    },
    {
      "cell_type": "markdown",
      "source": [
        "Now, run the following cell to compare the difference between iterative and vectorized operation."
      ],
      "metadata": {
        "id": "IogvRnSZw2X5"
      }
    },
    {
      "cell_type": "code",
      "source": [
        "import time\n",
        "\n",
        "def compare():\n",
        "    img = plt.imread('bear.png')\n",
        "    cur_time = time.time()\n",
        "    image_iterative = iterative(img)\n",
        "    print(\"Iterative operation (sec):\", time.time() - cur_time)\n",
        "\n",
        "    cur_time = time.time()\n",
        "    image_vectorized = vectorized(img)\n",
        "    print(\"Vectorized operation (sec):\", time.time() - cur_time)\n",
        "\n",
        "    return image_iterative, image_vectorized\n",
        "\n",
        "# Run the function\n",
        "image_iterative, image_vectorized = compare()\n",
        "\n",
        "# Plotting the results in sepearate subplots.\n",
        "plt.figure(figsize=(12,4))   # Adjust the figure size.\n",
        "plt.subplot(1, 3, 1)         # Create 1x3 subplots, indexing from 1\n",
        "plt.imshow(img)              # Original image.\n",
        "\n",
        "plt.subplot(1, 3, 2)\n",
        "plt.imshow(image_iterative)  # Iterative operations on the image.\n",
        "\n",
        "plt.subplot(1, 3, 3)\n",
        "plt.imshow(image_vectorized) # Vectorized operations on the image.\n",
        "\n",
        "plt.show()                   # Show the figure.\n",
        "\n",
        "# Note: The shown figures of image_iterative and image_vectorized should be identical!"
      ],
      "metadata": {
        "trusted": true,
        "id": "nJRyb1b-w2X5",
        "outputId": "cb51fdba-e69d-44c5-8d42-22cef0f4c1b6"
      },
      "outputs": [
        {
          "name": "stdout",
          "output_type": "stream",
          "text": "Iterative operation (sec): 2.058000087738037\n"
        },
        {
          "ename": "<class 'ValueError'>",
          "evalue": "could not broadcast input array from shape (0,) into shape (504,378,3)",
          "traceback": [
            "\u001b[0;31m---------------------------------------------------------------------------\u001b[0m",
            "\u001b[0;31mValueError\u001b[0m                                Traceback (most recent call last)",
            "Cell \u001b[0;32mIn[30], line 16\u001b[0m\n\u001b[1;32m     13\u001b[0m     \u001b[38;5;28;01mreturn\u001b[39;00m image_iterative, image_vectorized\n\u001b[1;32m     15\u001b[0m \u001b[38;5;66;03m# Run the function\u001b[39;00m\n\u001b[0;32m---> 16\u001b[0m image_iterative, image_vectorized \u001b[38;5;241m=\u001b[39m \u001b[43mcompare\u001b[49m\u001b[43m(\u001b[49m\u001b[43m)\u001b[49m\n\u001b[1;32m     18\u001b[0m \u001b[38;5;66;03m# Plotting the results in sepearate subplots.\u001b[39;00m\n\u001b[1;32m     19\u001b[0m plt\u001b[38;5;241m.\u001b[39mfigure(figsize\u001b[38;5;241m=\u001b[39m(\u001b[38;5;241m12\u001b[39m,\u001b[38;5;241m4\u001b[39m))   \u001b[38;5;66;03m# Adjust the figure size.\u001b[39;00m\n",
            "Cell \u001b[0;32mIn[30], line 10\u001b[0m, in \u001b[0;36mcompare\u001b[0;34m()\u001b[0m\n\u001b[1;32m      7\u001b[0m \u001b[38;5;28mprint\u001b[39m(\u001b[38;5;124m\"\u001b[39m\u001b[38;5;124mIterative operation (sec):\u001b[39m\u001b[38;5;124m\"\u001b[39m, time\u001b[38;5;241m.\u001b[39mtime() \u001b[38;5;241m-\u001b[39m cur_time)\n\u001b[1;32m      9\u001b[0m cur_time \u001b[38;5;241m=\u001b[39m time\u001b[38;5;241m.\u001b[39mtime()\n\u001b[0;32m---> 10\u001b[0m image_vectorized \u001b[38;5;241m=\u001b[39m \u001b[43mvectorized\u001b[49m\u001b[43m(\u001b[49m\u001b[43mimg\u001b[49m\u001b[43m)\u001b[49m\n\u001b[1;32m     11\u001b[0m \u001b[38;5;28mprint\u001b[39m(\u001b[38;5;124m\"\u001b[39m\u001b[38;5;124mVectorized operation (sec):\u001b[39m\u001b[38;5;124m\"\u001b[39m, time\u001b[38;5;241m.\u001b[39mtime() \u001b[38;5;241m-\u001b[39m cur_time)\n\u001b[1;32m     13\u001b[0m \u001b[38;5;28;01mreturn\u001b[39;00m image_iterative, image_vectorized\n",
            "Cell \u001b[0;32mIn[29], line 28\u001b[0m, in \u001b[0;36mvectorized\u001b[0;34m(img)\u001b[0m\n\u001b[1;32m     21\u001b[0m image[:a,:b] \u001b[38;5;241m=\u001b[39m image[:a,:b] \u001b[38;5;241m*\u001b[39m np\u001b[38;5;241m.\u001b[39marray([\u001b[38;5;241m1\u001b[39m,\u001b[38;5;241m0\u001b[39m,\u001b[38;5;241m0\u001b[39m])       \u001b[38;5;66;03m# Keep the red channel\u001b[39;00m\n\u001b[1;32m     23\u001b[0m \u001b[38;5;66;03m# Please also keep the blue channel / green and blue channels respectively in image[a:, :b] and image[:a, b:]\u001b[39;00m\n\u001b[1;32m     24\u001b[0m \u001b[38;5;66;03m# with the vectorized operation as shown above. You need to make sure your final generated image in this\u001b[39;00m\n\u001b[1;32m     25\u001b[0m \u001b[38;5;66;03m# vectorized() function is the same as the one generated from iterative().\u001b[39;00m\n\u001b[1;32m     26\u001b[0m \n\u001b[1;32m     27\u001b[0m \u001b[38;5;66;03m#### Write your code here. ####\u001b[39;00m\n\u001b[0;32m---> 28\u001b[0m \u001b[43mimage\u001b[49m\u001b[43m[\u001b[49m\u001b[43ma\u001b[49m\u001b[43m:\u001b[49m\u001b[43m,\u001b[49m\u001b[43m:\u001b[49m\u001b[43mb\u001b[49m\u001b[43m]\u001b[49m \u001b[38;5;241m=\u001b[39m  []      \u001b[38;5;66;03m# Keep the blue channel\u001b[39;00m\n\u001b[1;32m     30\u001b[0m image[:a,b:] \u001b[38;5;241m=\u001b[39m  []      \u001b[38;5;66;03m# Keep the green and blue channels\u001b[39;00m\n\u001b[1;32m     32\u001b[0m \u001b[38;5;28;01mreturn\u001b[39;00m image\n",
            "\u001b[0;31mValueError\u001b[0m: could not broadcast input array from shape (0,) into shape (504,378,3)"
          ],
          "output_type": "error"
        }
      ],
      "execution_count": null
    },
    {
      "cell_type": "markdown",
      "source": [
        "## Problem 2: More Image Manipulation (45 points)\n",
        "\n",
        "In this problem you will reuse the image `bear.png`. Being a color image, this image has three channels, corresponding to the primary colors of red, green and blue.\n",
        "\n",
        "(1) Read the image.\n",
        "\n",
        "(2) Write your implementation to extract each of these channels separately to create single channel images. This means that from the $H\\times W\\times 3$ shaped image, you'll get three matrices of the shape $H\\times W$ (Note that it's 2-dimensional).\n",
        "\n",
        "(3) Now, write a function to merge all these single channel images back into a 3-dimensional colored image. Merge the 2D images using the original channels order $(R,G,B)$ and another order $(G,B,R)$.\n",
        "\n",
        "(4) Next, write another function to mirror the original image from left to right. For this function, please only use **Array Indexing** to implement this function and **do not** directly use the functions (e.g. `np.flip()`) that directly flips the matrix.\n",
        "\n",
        "(5) Next, write another function to rotate the original image 90 degrees counterclockwise. For this function, please only use **Array Indexing** to implement this function and **do not** directly use the functions (e.g. `np.rot90()`) that directly rotates the matrix. Try to apply the rotation function once (i.e. 90-degree rotation) and twice (i.e. 180-degree rotation)\n",
        "\n",
        "(6) Finally, consider **4 color images** you obtained: 2 from merging (RGB and GBR), 1 from mirroring (left to right) and 1 from rotation (180-degree). Using these 4 images, create one single image by tiling them together **without using loops**. The image will have $2\\times 2$ tiles making the shape of the final image $2H \\times 2W \\times 3$. The order in which the images are tiled does not matter. Show the tiled image."
      ],
      "metadata": {
        "id": "KMobrbH6w2X6"
      }
    },
    {
      "cell_type": "code",
      "source": [
        "import numpy as np\n",
        "import matplotlib.pyplot as plt\n",
        "import copy"
      ],
      "metadata": {
        "trusted": true,
        "id": "2bJje40Bw2X6"
      },
      "outputs": [],
      "execution_count": null
    },
    {
      "cell_type": "code",
      "source": [
        "# (1) Read the image.\n",
        "#### Write your code here. ####\n",
        "img =\n",
        "\n",
        "\n",
        "plt.imshow(img) # Show the image after reading.\n",
        "plt.show()\n",
        "\n",
        "\n",
        "\n",
        "# (2) Extract single channel image.\n",
        "def get_channel(img, channel):\n",
        "    \"\"\"\n",
        "    Function to extract 2D image corresponding to a channel index from a color image.\n",
        "    This function should return a H*W array which is the corresponding channel of the input image.\n",
        "\n",
        "    Parameters:\n",
        "    img: 3-dimensional array e.g. RGB image with shape (H,W,3)\n",
        "    channel: integer (used to index the channel)\n",
        "    \"\"\"\n",
        "\n",
        "\n",
        "# Test your implemented get_channel()\n",
        "assert len(get_channel(img, 0).shape) == 2  # Index 0"
      ],
      "metadata": {
        "trusted": true,
        "id": "ZPwFTWmfw2X6",
        "outputId": "94167156-6ed8-41a4-8195-d45f289bf975"
      },
      "outputs": [
        {
          "ename": "<class 'SyntaxError'>",
          "evalue": "invalid syntax (<ipython-input-14-d6e128095b6e>, line 3)",
          "traceback": [
            "\u001b[0;36m  Cell \u001b[0;32mIn[14], line 3\u001b[0;36m\u001b[0m\n\u001b[0;31m    img =\u001b[0m\n\u001b[0m          ^\u001b[0m\n\u001b[0;31mSyntaxError\u001b[0m\u001b[0;31m:\u001b[0m invalid syntax\n"
          ],
          "output_type": "error"
        }
      ],
      "execution_count": null
    },
    {
      "cell_type": "code",
      "source": [
        "# (3) Merge channels.\n",
        "def merge_channels(img0, img1, img2):\n",
        "    \"\"\"\n",
        "    Function to merge three single channel images to form a color image.\n",
        "    This function should return a H*W*3 array which merges all three single channel images\n",
        "    (i.e. img0, img1, img2) in the input.\n",
        "\n",
        "    Parameters:\n",
        "    img0: 2-dimensional array e.g. single channel image with shape (H,W)\n",
        "    img1: 2-dimensional array e.g. single channel image with shape (H,W)\n",
        "    img2: 2-dimensional array e.g. single channel image with shape (H,W)\n",
        "    \"\"\"\n",
        "    # Hint: There are multiple ways to implement it.\n",
        "    #       1. For example, create a H*W*C array with all values as zero and\n",
        "    #          fill each channel with given single channel image.\n",
        "    #          You may refer to the \"Modify a subarray\" section in the brief NumPy tutorial above.\n",
        "    #       2. You may find np.stack() / np.concatenate() / np.reshape() useful in this problem.\n",
        "\n",
        "    #### Write your code here. ####\n",
        "\n",
        "\n",
        "img0 = get_channel(img, 0)  # Get single channel images.\n",
        "img1 = get_channel(img, 1)\n",
        "img2 = get_channel(img, 2)\n",
        "\n",
        "#### Write your code here. ####\n",
        "RGB_img =                           # Merge the channels in R,G,B order (the same as original)\n",
        "GBR_img =                           # Merge the channels in G,B,R order\n",
        "plt.imshow(RGB_img)\n",
        "plt.show()\n",
        "plt.imshow(GBR_img)\n",
        "plt.show()"
      ],
      "metadata": {
        "trusted": true,
        "id": "-OFMt7N_w2X6",
        "outputId": "bd59fc61-ff15-43e9-cbe6-890445bf09e4"
      },
      "outputs": [
        {
          "ename": "<class 'SyntaxError'>",
          "evalue": "invalid syntax (<ipython-input-15-d84a0c5c892e>, line 27)",
          "traceback": [
            "\u001b[0;36m  Cell \u001b[0;32mIn[15], line 27\u001b[0;36m\u001b[0m\n\u001b[0;31m    RGB_img =                           # Merge the channels in R,G,B order (the same as original)\u001b[0m\n\u001b[0m                                        ^\u001b[0m\n\u001b[0;31mSyntaxError\u001b[0m\u001b[0;31m:\u001b[0m invalid syntax\n"
          ],
          "output_type": "error"
        }
      ],
      "execution_count": null
    },
    {
      "cell_type": "code",
      "source": [
        "# (4) Mirror the image from left to right.\n",
        "def mirror_img(img):\n",
        "    \"\"\"\n",
        "    Function to mirror image from left to right.\n",
        "    This function should return a H*W*3 array which is the mirrored version of original image.\n",
        "\n",
        "    Parameters:\n",
        "    img: 3-dimensional array e.g. RGB image of shape (H,W,3)\n",
        "    \"\"\"\n",
        "    #### Write your code here. ####\n",
        "\n",
        "\n",
        "plt.imshow(img)\n",
        "plt.show()\n",
        "mirrored_img = mirror_img(img)\n",
        "plt.imshow(mirrored_img)\n",
        "plt.show()"
      ],
      "metadata": {
        "trusted": true,
        "id": "K26ihoIIw2X6",
        "outputId": "a8f59eca-941d-42f7-d666-4e7250a5cd4a"
      },
      "outputs": [
        {
          "ename": "<class 'NameError'>",
          "evalue": "name 'img' is not defined",
          "traceback": [
            "\u001b[0;31m---------------------------------------------------------------------------\u001b[0m",
            "\u001b[0;31mNameError\u001b[0m                                 Traceback (most recent call last)",
            "Cell \u001b[0;32mIn[16], line 13\u001b[0m\n\u001b[1;32m      3\u001b[0m \u001b[38;5;250m    \u001b[39m\u001b[38;5;124;03m\"\"\"\u001b[39;00m\n\u001b[1;32m      4\u001b[0m \u001b[38;5;124;03m    Function to mirror image from left to right. \u001b[39;00m\n\u001b[1;32m      5\u001b[0m \u001b[38;5;124;03m    This function should return a H*W*3 array which is the mirrored version of original image.\u001b[39;00m\n\u001b[0;32m   (...)\u001b[0m\n\u001b[1;32m      8\u001b[0m \u001b[38;5;124;03m    img: 3-dimensional array e.g. RGB image of shape (H,W,3)\u001b[39;00m\n\u001b[1;32m      9\u001b[0m \u001b[38;5;124;03m    \"\"\"\u001b[39;00m     \n\u001b[1;32m     10\u001b[0m     \u001b[38;5;66;03m#### Write your code here. ####\u001b[39;00m\n\u001b[0;32m---> 13\u001b[0m plt\u001b[38;5;241m.\u001b[39mimshow(\u001b[43mimg\u001b[49m)\n\u001b[1;32m     14\u001b[0m plt\u001b[38;5;241m.\u001b[39mshow()\n\u001b[1;32m     15\u001b[0m mirrored_img \u001b[38;5;241m=\u001b[39m mirror_img(img)\n",
            "\u001b[0;31mNameError\u001b[0m: name 'img' is not defined"
          ],
          "output_type": "error"
        }
      ],
      "execution_count": null
    },
    {
      "cell_type": "code",
      "source": [
        "# (5) Rotate image.\n",
        "def rotate_img(img):\n",
        "    \"\"\"\n",
        "    Function to rotate image 90 degrees counter-clockwise.\n",
        "    This function should return a W*H*3 array which is the rotated version of original image.\n",
        "\n",
        "    Parameters:\n",
        "    img: 3-dimensional array e.g. RGB image of shape (H,W,3)\n",
        "    \"\"\"\n",
        "    #### Write your code here. ####\n",
        "\n",
        "\n",
        "\n",
        "\n",
        "\n",
        "\n",
        "\n",
        "\n",
        "plt.imshow(img)\n",
        "plt.show()\n",
        "rot90_img = rotate_img(img)\n",
        "plt.imshow(rot90_img)\n",
        "plt.show()\n",
        "rot180_img = rotate_img(rotate_img(img))\n",
        "plt.imshow(rot180_img)\n",
        "plt.show()"
      ],
      "metadata": {
        "trusted": true,
        "id": "fjiFfpxXw2X6",
        "outputId": "e12d902e-99ac-4c34-8355-734fa7408a5a"
      },
      "outputs": [
        {
          "ename": "<class 'NameError'>",
          "evalue": "name 'img' is not defined",
          "traceback": [
            "\u001b[0;31m---------------------------------------------------------------------------\u001b[0m",
            "\u001b[0;31mNameError\u001b[0m                                 Traceback (most recent call last)",
            "Cell \u001b[0;32mIn[17], line 19\u001b[0m\n\u001b[1;32m      3\u001b[0m \u001b[38;5;250m    \u001b[39m\u001b[38;5;124;03m\"\"\"\u001b[39;00m\n\u001b[1;32m      4\u001b[0m \u001b[38;5;124;03m    Function to rotate image 90 degrees counter-clockwise. \u001b[39;00m\n\u001b[1;32m      5\u001b[0m \u001b[38;5;124;03m    This function should return a W*H*3 array which is the rotated version of original image.\u001b[39;00m\n\u001b[0;32m   (...)\u001b[0m\n\u001b[1;32m      8\u001b[0m \u001b[38;5;124;03m    img: 3-dimensional array e.g. RGB image of shape (H,W,3)\u001b[39;00m\n\u001b[1;32m      9\u001b[0m \u001b[38;5;124;03m    \"\"\"\u001b[39;00m\n\u001b[1;32m     10\u001b[0m     \u001b[38;5;66;03m#### Write your code here. ####\u001b[39;00m\n\u001b[0;32m---> 19\u001b[0m plt\u001b[38;5;241m.\u001b[39mimshow(\u001b[43mimg\u001b[49m)\n\u001b[1;32m     20\u001b[0m plt\u001b[38;5;241m.\u001b[39mshow()\n\u001b[1;32m     21\u001b[0m rot90_img \u001b[38;5;241m=\u001b[39m rotate_img(img)\n",
            "\u001b[0;31mNameError\u001b[0m: name 'img' is not defined"
          ],
          "output_type": "error"
        }
      ],
      "execution_count": null
    },
    {
      "cell_type": "code",
      "source": [
        "# (6) Write your code here to tile four images and make a single image.\n",
        "# You can use the RGB_img, GBR_img, mirrored_img, rot180_img to represent the four tiles.\n",
        "# After tiling, please display the tiled image.\n",
        "\n",
        "#### Write your code here. ####\n",
        "\n"
      ],
      "metadata": {
        "id": "0DzXU5TYw2X6"
      },
      "outputs": [],
      "execution_count": null
    }
  ]
}